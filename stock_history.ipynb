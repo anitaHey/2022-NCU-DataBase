{
 "cells": [
  {
   "cell_type": "code",
   "execution_count": null,
   "id": "4d45d337",
   "metadata": {},
   "outputs": [],
   "source": [
    "import requests\n",
    "import json\n",
    "import pandas as pd\n",
    "import time\n",
    "from fake_useragent import UserAgent\n",
    "import pymssql\n",
    "\n",
    "db_settings = {\n",
    "    \"host\": \"127.0.0.1\",\n",
    "    \"user\": \"sa\",\n",
    "    \"password\": \"\",\n",
    "    \"database\": \"ncu_database\",\n",
    "    \"charset\": \"utf8\"\n",
    "}"
   ]
  },
  {
   "cell_type": "code",
   "execution_count": null,
   "id": "d89773e5",
   "metadata": {},
   "outputs": [],
   "source": [
    "try:  \n",
    "    all_url = []\n",
    "    all_stock =[]\n",
    "    conn = pymssql.connect(**db_settings)\n",
    "    with conn.cursor() as cursor:\n",
    "        command = \"select * from [dbo].[stock_list]\"\n",
    "        cursor.execute(command)\n",
    "        result = cursor.fetchall()\n",
    "        for year in range(2022, 2023):\n",
    "            for month in range(1, 3):\n",
    "                for r in result:\n",
    "                    try:\n",
    "                        stock = r[0]\n",
    "                        date = str(year)+f\"{month:02d}\"+\"01\"\n",
    "                        if r[2] == \"上市\":\n",
    "                            address = f\"https://www.twse.com.tw/exchangeReport/STOCK_DAY?response=json&date={date}&stockNo={stock}\"\n",
    "                        elif r[2] == \"上櫃\":\n",
    "                            address = f\"http://www.tpex.org.tw/web/stock/aftertrading/daily_trading_info/st43_result.php?d={date}&stkno={stock}\"\n",
    "                        all_url.append(address)\n",
    "                        all_stock.append(r[0])\n",
    "                    except Exception as ex:\n",
    "                        continue                                     \n",
    "        conn.close()           \n",
    "except Exception as ex:\n",
    "    print(ex)"
   ]
  },
  {
   "cell_type": "code",
   "execution_count": null,
   "id": "44588af6",
   "metadata": {},
   "outputs": [],
   "source": [
    "len(all_url)"
   ]
  },
  {
   "cell_type": "code",
   "execution_count": null,
   "id": "1ac468f4",
   "metadata": {},
   "outputs": [],
   "source": [
    "try:  \n",
    "    user_agent = UserAgent()\n",
    "    conn = pymssql.connect(**db_settings)\n",
    "    with conn.cursor() as cursor:\n",
    "        insert_command = \"INSERT INTO [dbo].[stock_data](c, d, v, z, o, h, l, tz, u, tv) VALUES (%s, %s, %s, %s, %s, %s, %s, %s, %s, %s)\"\n",
    "        for index in range(3049, len(all_url)):\n",
    "            try:\n",
    "                response = requests.get(url=all_url[index], headers={ 'user-agent': user_agent.random })\n",
    "                data = response.text  # 這是json格式的資料\n",
    "                a_json = json.loads(data)  # 轉成dict\n",
    "                if(\"tpex\" in all_url[index]):\n",
    "                    data_str = \"aaData\"\n",
    "                else:\n",
    "                    data_str = \"data\"\n",
    "                    \n",
    "                for data in a_json[data_str]:\n",
    "                    date = data[0].split(\"/\")\n",
    "                    data[0] = str(1911 + int(date[0])) + date[1] + date[2] + \" 14:00:00\"\n",
    "                    data[1] = data[1].replace(\",\", \"\")\n",
    "                    data[2] = data[2].replace(\",\", \"\")\n",
    "                    data[3] = data[3].replace(\",\", \"\")\n",
    "                    data[4] = data[4].replace(\",\", \"\")\n",
    "                    data[5] = data[5].replace(\",\", \"\")\n",
    "                    data[6] = data[6].replace(\",\", \"\")\n",
    "                    data[7] = data[7].replace(\",\", \"\")\n",
    "                    data[8] = data[8].replace(\",\", \"\")\n",
    "                    cursor.execute(insert_command, (all_stock[index], data[0], data[1], data[2], data[3], data[4], data[5], data[6], data[7], data[8]))\n",
    "                    conn.commit()\n",
    "                time.sleep(10)\n",
    "                print(time.strftime(\"%H:%M:%S\", time.localtime()) + \" \" + str(index))\n",
    "            except Exception as ex:\n",
    "                time.sleep(10)\n",
    "                print(time.strftime(\"%H:%M:%S\", time.localtime()) + \" error \" + str(index) + \" \" + data)\n",
    "                continue\n",
    "        conn.close()\n",
    "except Exception as e:\n",
    "#    print(e)\n",
    "    error_class = e.__class__.__name__ #取得錯誤類型\n",
    "    detail = e.args[0] #取得詳細內容\n",
    "    cl, exc, tb = sys.exc_info() #取得Call Stack\n",
    "    lastCallStack = traceback.extract_tb(tb)[-1] #取得Call Stack的最後一筆資料\n",
    "    fileName = lastCallStack[0] #取得發生的檔案名稱\n",
    "    lineNum = lastCallStack[1] #取得發生的行號\n",
    "    funcName = lastCallStack[2] #取得發生的函數名稱\n",
    "    errMsg = \"File \\\"{}\\\", line {}, in {}: [{}] {}\".format(fileName, lineNum, funcName, error_class, detail)\n",
    "    print(errMsg)"
   ]
  },
  {
   "cell_type": "code",
   "execution_count": null,
   "id": "e657ce53",
   "metadata": {},
   "outputs": [],
   "source": []
  }
 ],
 "metadata": {
  "kernelspec": {
   "display_name": "Python 3 (ipykernel)",
   "language": "python",
   "name": "python3"
  },
  "language_info": {
   "codemirror_mode": {
    "name": "ipython",
    "version": 3
   },
   "file_extension": ".py",
   "mimetype": "text/x-python",
   "name": "python",
   "nbconvert_exporter": "python",
   "pygments_lexer": "ipython3",
   "version": "3.7.11"
  }
 },
 "nbformat": 4,
 "nbformat_minor": 5
}
