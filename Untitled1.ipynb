{
 "cells": [
  {
   "cell_type": "code",
   "execution_count": 11,
   "id": "1a2dfcf9",
   "metadata": {},
   "outputs": [],
   "source": [
    "from selenium import webdriver\n",
    "from selenium.webdriver.common.by import By\n",
    "from selenium.webdriver.support.ui import WebDriverWait\n",
    "from selenium.webdriver.support import expected_conditions as EC\n",
    "from selenium.common.exceptions import TimeoutException\n",
    "from selenium.webdriver.chrome.service import Service\n",
    "from selenium.webdriver.common.keys import Keys"
   ]
  },
  {
   "cell_type": "code",
   "execution_count": 12,
   "id": "23bcc844",
   "metadata": {},
   "outputs": [],
   "source": [
    "chrome = webdriver.Chrome(service=Service('./chromedriver'))\n",
    "chrome.get(\"https://www.google.com.tw/\")\n",
    "\n",
    "try:\n",
    "    WebDriverWait(chrome, 10).until(EC.presence_of_element_located((By.XPATH, \"//input[@aria-label='搜尋']\")))\n",
    "    input_block = chrome.find_element(By.XPATH,\"//input[@aria-label='搜尋']\")\n",
    "    input_block.send_keys(\"中央大學\")\n",
    "    input_block.send_keys(Keys.ENTER)\n",
    "    \n",
    "except TimeoutException as e:\n",
    "    print(e)    \n",
    "# chrome.close()"
   ]
  },
  {
   "cell_type": "code",
   "execution_count": null,
   "id": "878eee5b",
   "metadata": {},
   "outputs": [],
   "source": []
  }
 ],
 "metadata": {
  "kernelspec": {
   "display_name": "Python 3 (ipykernel)",
   "language": "python",
   "name": "python3"
  },
  "language_info": {
   "codemirror_mode": {
    "name": "ipython",
    "version": 3
   },
   "file_extension": ".py",
   "mimetype": "text/x-python",
   "name": "python",
   "nbconvert_exporter": "python",
   "pygments_lexer": "ipython3",
   "version": "3.7.11"
  }
 },
 "nbformat": 4,
 "nbformat_minor": 5
}
