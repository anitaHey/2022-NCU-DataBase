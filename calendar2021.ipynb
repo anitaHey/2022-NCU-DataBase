{
 "cells": [
  {
   "cell_type": "code",
   "execution_count": 1,
   "id": "5a1a1703",
   "metadata": {},
   "outputs": [],
   "source": [
    "import calendar\n",
    "import pymssql\n",
    "import requests\n",
    "from datetime import datetime\n",
    "from selenium import webdriver\n",
    "from selenium.webdriver.chrome.options import Options\n",
    "from selenium.webdriver.common.by import By\n",
    "from selenium.webdriver.support.ui import WebDriverWait\n",
    "from selenium.webdriver.support import expected_conditions as EC\n",
    "from selenium.common.exceptions import TimeoutException\n",
    "from selenium.webdriver.chrome.service import Service\n",
    "from selenium.webdriver.support.ui import Select\n",
    "\n",
    "db_settings = {\n",
    "    \"host\": \"127.0.0.1\",\n",
    "    \"user\": \"sa\",\n",
    "    \"password\": \"\",\n",
    "    \"database\": \"ncu_database\",\n",
    "    \"charset\": \"utf8\"\n",
    "}"
   ]
  },
  {
   "cell_type": "code",
   "execution_count": 2,
   "id": "f6df9c67",
   "metadata": {},
   "outputs": [],
   "source": [
    "holiday_dir = {}\n",
    "\n",
    "options = Options()\n",
    "# options.add_argument(\"--headless\")  # 執行時不顯示瀏覽器\n",
    "options.add_argument(\"--disable-notifications\")  # 禁止瀏覽器的彈跳通知\n",
    "chrome = webdriver.Chrome(service=Service('./chromedriver'), options=options)\n",
    "\n",
    "chrome.get(\"https://www.emega.com.tw/emegaTran/calendarRestList.do\")\n",
    "\n",
    "try:\n",
    "    # 等元件跑完再接下來的動作，避免讀取不到內容\n",
    "    WebDriverWait(chrome, 10).until(EC.presence_of_element_located((By.XPATH, \"//a[@title='去年']\")))\n",
    "    chrome.find_element(By.XPATH,\"//a[@title='去年']\").click()\n",
    "    Select(chrome.find_element(By.ID,\"countrySelect\")).select_by_value(\"local\")\n",
    "    WebDriverWait(chrome, 10).until(EC.presence_of_element_located((By.XPATH, \"//div[@class='calistset']//table\")))\n",
    "    holiday_list = chrome.find_elements(By.XPATH,\"//div[@class='calistset']//table//tr\")\n",
    "    first = True;\n",
    "    for holiday in holiday_list:\n",
    "        if(first):\n",
    "            first = False;\n",
    "            continue\n",
    "        td_list = holiday.find_elements(By.TAG_NAME, \"td\")\n",
    "        date = td_list[0].text.split(\"(\")[0]\n",
    "        explain = td_list[2].find_element(By.TAG_NAME, \"li\").text\n",
    "        date_time_obj = datetime.strptime(date, '%Y/%m/%d').strftime('%Y%m%d')\n",
    "        holiday_dir[date_time_obj] = explain\n",
    "except TimeoutException as e:\n",
    "    print(e)    \n",
    "# chrome.close()"
   ]
  },
  {
   "cell_type": "code",
   "execution_count": 4,
   "id": "9004b687",
   "metadata": {},
   "outputs": [
    {
     "data": {
      "text/plain": [
       "{'20210101': '(休市)元旦',\n",
       " '20210210': '農曆年',\n",
       " '20210211': '農曆年',\n",
       " '20210212': '農曆年',\n",
       " '20210215': '農曆年',\n",
       " '20210216': '農曆年',\n",
       " '20210220': '週休(補班)',\n",
       " '20210301': '和平紀念日',\n",
       " '20210402': '兒童節(彈性放假)',\n",
       " '20210405': '清明節(彈性放假)',\n",
       " '20210430': '勞動節(彈性放假)',\n",
       " '20210614': '端午節(彈性放假)',\n",
       " '20210911': '週休(補班)',\n",
       " '20210920': '中秋節(彈性放假)',\n",
       " '20210921': '中秋節(彈性放假)',\n",
       " '20211011': '國慶(彈性放假)',\n",
       " '20211231': '元旦(彈性放假)'}"
      ]
     },
     "execution_count": 4,
     "metadata": {},
     "output_type": "execute_result"
    }
   ],
   "source": [
    "holiday_dir"
   ]
  },
  {
   "cell_type": "code",
   "execution_count": 3,
   "id": "c4c46165",
   "metadata": {},
   "outputs": [],
   "source": [
    "work_count = 0\n",
    "try:\n",
    "    conn = pymssql.connect(**db_settings)\n",
    "    command = \"INSERT INTO [dbo].[calendar] (date, weekday, is_work, day_of_stock, other) VALUES (%s, %s, %s, %d, %s)\"\n",
    "    with conn.cursor() as cursor:\n",
    "        for month in range(1,13):\n",
    "            for date in range(1, calendar.monthrange(2021,month)[1]+1):\n",
    "                date_str = f\"2021{month:02d}{date:02d}\"\n",
    "                weekday = calendar.weekday(2021,month,date)  #取得星期，星期一為0\n",
    "                \n",
    "                if date_str in holiday_dir:  #若日期為特殊假日\n",
    "                    cursor.execute(command, (date_str, str(weekday), \"0\", -1, holiday_dir[date_str]))\n",
    "                elif weekday == 5 or weekday == 6:  #若日期為周末\n",
    "                    cursor.execute(command, (date_str, str(weekday), \"0\", -1, \"\"))\n",
    "                else:\n",
    "                    work_count += 1\n",
    "                    cursor.execute(command, (date_str, str(weekday), \"1\", work_count, \"\"))\n",
    "                \n",
    "                conn.commit()\n",
    "except Exception as e:\n",
    "    #    print(e)\n",
    "        error_class = e.__class__.__name__ #取得錯誤類型\n",
    "        detail = e.args[0] #取得詳細內容\n",
    "        cl, exc, tb = sys.exc_info() #取得Call Stack\n",
    "        lastCallStack = traceback.extract_tb(tb)[-1] #取得Call Stack的最後一筆資料\n",
    "        fileName = lastCallStack[0] #取得發生的檔案名稱\n",
    "        lineNum = lastCallStack[1] #取得發生的行號\n",
    "        funcName = lastCallStack[2] #取得發生的函數名稱\n",
    "        errMsg = \"File \\\"{}\\\", line {}, in {}: [{}] {}\".format(fileName, lineNum, funcName, error_class, detail)\n",
    "        print(errMsg)"
   ]
  },
  {
   "cell_type": "code",
   "execution_count": null,
   "id": "e8491c49",
   "metadata": {},
   "outputs": [],
   "source": []
  }
 ],
 "metadata": {
  "kernelspec": {
   "display_name": "Python 3 (ipykernel)",
   "language": "python",
   "name": "python3"
  },
  "language_info": {
   "codemirror_mode": {
    "name": "ipython",
    "version": 3
   },
   "file_extension": ".py",
   "mimetype": "text/x-python",
   "name": "python",
   "nbconvert_exporter": "python",
   "pygments_lexer": "ipython3",
   "version": "3.7.11"
  }
 },
 "nbformat": 4,
 "nbformat_minor": 5
}
