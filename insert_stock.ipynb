{
 "cells": [
  {
   "cell_type": "code",
   "execution_count": 1,
   "id": "4255ec28",
   "metadata": {},
   "outputs": [],
   "source": [
    "import pymssql\n",
    "import requests\n",
    "from bs4 import BeautifulSoup\n",
    "\n",
    "\n",
    "db_settings = {\n",
    "    \"host\": \"127.0.0.1\",\n",
    "    \"user\": \"sa\",\n",
    "    \"password\": \"\",\n",
    "    \"database\": \"ncu_database\",\n",
    "    \"charset\": \"utf8\"\n",
    "}"
   ]
  },
  {
   "cell_type": "code",
   "execution_count": null,
   "id": "4a61199d",
   "metadata": {},
   "outputs": [],
   "source": [
    "def find_stock(url, start, end):\n",
    "    try:\n",
    "        conn = pymssql.connect(**db_settings)\n",
    "        with conn.cursor() as cursor:\n",
    "            command = \"INSERT INTO [dbo].[stock_list] (id, name, type, catogory) VALUES (%s, %s, %s, %s)\"\n",
    "            response = requests.get(url)\n",
    "            soup = BeautifulSoup(response.text, \"html.parser\")\n",
    "\n",
    "            result = soup.select(\"table td b\")\n",
    "            for tr in result: # 在所有的粗體標籤中找到我們需要的\n",
    "                if(tr.text.strip() == start):\n",
    "                    start_td = tr.find_parent(\"tr\")\n",
    "                elif(tr.text.strip() == end):\n",
    "                    end_td = tr.find_parent(\"tr\")\n",
    "\n",
    "            list_td = start_td.find_next(\"tr\") # 找出下一個tr標籤\n",
    "            while(list_td != end_td):\n",
    "                child_list = list_td.find_all('td') # 列出tr標籤中的所有td標籤\n",
    "                stock_id, stock_name = child_list[0].text.split(\"　\")\n",
    "                cursor.execute(command, (stock_id, stock_name, child_list[3].text, child_list[4].text))\n",
    "                list_td = list_td.find_next(\"tr\")\n",
    "            conn.commit()\n",
    "    except Exception as e:\n",
    "    #    print(e)\n",
    "        error_class = e.__class__.__name__ #取得錯誤類型\n",
    "        detail = e.args[0] #取得詳細內容\n",
    "        cl, exc, tb = sys.exc_info() #取得Call Stack\n",
    "        lastCallStack = traceback.extract_tb(tb)[-1] #取得Call Stack的最後一筆資料\n",
    "        fileName = lastCallStack[0] #取得發生的檔案名稱\n",
    "        lineNum = lastCallStack[1] #取得發生的行號\n",
    "        funcName = lastCallStack[2] #取得發生的函數名稱\n",
    "        errMsg = \"File \\\"{}\\\", line {}, in {}: [{}] {}\".format(fileName, lineNum, funcName, error_class, detail)\n",
    "        print(errMsg)"
   ]
  },
  {
   "cell_type": "code",
   "execution_count": null,
   "id": "20fac552",
   "metadata": {},
   "outputs": [],
   "source": [
    "find_stock(\"https://isin.twse.com.tw/isin/C_public.jsp?strMode=4\", \"股票\", \"特別股\")\n",
    "find_stock(\"https://isin.twse.com.tw/isin/C_public.jsp?strMode=2\", \"股票\", \"上市認購(售)權證\")"
   ]
  },
  {
   "cell_type": "code",
   "execution_count": null,
   "id": "66578801",
   "metadata": {},
   "outputs": [],
   "source": []
  }
 ],
 "metadata": {
  "kernelspec": {
   "display_name": "Python 3 (ipykernel)",
   "language": "python",
   "name": "python3"
  },
  "language_info": {
   "codemirror_mode": {
    "name": "ipython",
    "version": 3
   },
   "file_extension": ".py",
   "mimetype": "text/x-python",
   "name": "python",
   "nbconvert_exporter": "python",
   "pygments_lexer": "ipython3",
   "version": "3.7.11"
  }
 },
 "nbformat": 4,
 "nbformat_minor": 5
}
