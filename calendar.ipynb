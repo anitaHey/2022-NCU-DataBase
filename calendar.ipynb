{
 "cells": [
  {
   "cell_type": "code",
   "execution_count": 12,
   "id": "5a1a1703",
   "metadata": {},
   "outputs": [],
   "source": [
    "import calendar\n",
    "import pymssql\n",
    "import requests\n",
    "from datetime import datetime\n",
    "from selenium import webdriver\n",
    "from selenium.webdriver.chrome.options import Options\n",
    "from selenium.webdriver.common.by import By\n",
    "from selenium.webdriver.support.ui import WebDriverWait\n",
    "from selenium.webdriver.support import expected_conditions as EC\n",
    "from selenium.common.exceptions import TimeoutException\n",
    "from selenium.webdriver.chrome.service import Service\n",
    "\n",
    "db_settings = {\n",
    "    \"host\": \"127.0.0.1\",\n",
    "    \"user\": \"sa\",\n",
    "    \"password\": \"\",\n",
    "    \"database\": \"ncu_database\",\n",
    "    \"charset\": \"utf8\"\n",
    "}"
   ]
  },
  {
   "cell_type": "code",
   "execution_count": 13,
   "id": "f6df9c67",
   "metadata": {},
   "outputs": [],
   "source": [
    "holiday_dir = {}\n",
    "\n",
    "options = Options()\n",
    "options.add_argument(\"--headless\")  # 執行時不顯示瀏覽器\n",
    "options.add_argument(\"--disable-notifications\")  # 禁止瀏覽器的彈跳通知\n",
    "chrome = webdriver.Chrome(service=Service('./chromedriver'), options=options)\n",
    "\n",
    "chrome.get(\"https://www.wantgoo.com/global/holiday/twse\")\n",
    "\n",
    "try:\n",
    "    # 等元件跑完再接下來的動作，避免讀取不到內容\n",
    "    WebDriverWait(chrome, 10).until(EC.presence_of_element_located((By.XPATH, \"//tbody[@id='holidays']//tr\")))\n",
    "    holiday_list = chrome.find_elements(By.XPATH,\"//tbody[@id='holidays']//tr\")\n",
    "    for holiday in holiday_list:\n",
    "        date = holiday.find_element(By.TAG_NAME, \"th\").text.split(\" \")[0]\n",
    "        explain = holiday.find_element(By.TAG_NAME, \"td\").text\n",
    "        date_time_obj = datetime.strptime(date, '%Y/%m/%d').strftime('%Y%m%d')\n",
    "        holiday_dir[date_time_obj] = explain\n",
    "except TimeoutException as e:\n",
    "    print(e)    \n",
    "chrome.close()"
   ]
  },
  {
   "cell_type": "code",
   "execution_count": 3,
   "id": "9004b687",
   "metadata": {},
   "outputs": [
    {
     "data": {
      "text/plain": [
       "{'20220127': '交易所休市(辦理結算交割)',\n",
       " '20220128': '交易所休市(辦理結算交割)',\n",
       " '20220131': '農曆春節除夕',\n",
       " '20220201': '農曆春節',\n",
       " '20220202': '農曆春節',\n",
       " '20220203': '農曆春節',\n",
       " '20220204': '農曆春節補假(0122補上班但交易所不交易)',\n",
       " '20220228': '和平紀念日',\n",
       " '20220404': '兒童節',\n",
       " '20220405': '民族掃墓節',\n",
       " '20220502': '勞動節補假(0501適逢星期日)',\n",
       " '20220603': '端午節',\n",
       " '20220909': '中秋節補假(0910適逢星期六)',\n",
       " '20221010': '國慶日'}"
      ]
     },
     "execution_count": 3,
     "metadata": {},
     "output_type": "execute_result"
    }
   ],
   "source": [
    "holiday_dir"
   ]
  },
  {
   "cell_type": "code",
   "execution_count": 10,
   "id": "c4c46165",
   "metadata": {},
   "outputs": [],
   "source": [
    "work_count = 0\n",
    "try:\n",
    "    conn = pymssql.connect(**db_settings)\n",
    "    command = \"INSERT INTO [dbo].[calendar] (date, weekday, is_work, day_of_stock, other) VALUES (%s, %s, %s, %d, %s)\"\n",
    "    with conn.cursor() as cursor:\n",
    "        for month in range(1,13):\n",
    "            for date in range(1, calendar.monthrange(2022,month)[1]+1):\n",
    "                date_str = f\"2022{month:02d}{date:02d}\"\n",
    "                weekday = calendar.weekday(2022,month,date)  #取得星期，星期一為0\n",
    "                \n",
    "                if date_str in holiday_dir:  #若日期為特殊假日\n",
    "                    cursor.execute(command, (date_str, str(weekday), \"0\", -1, holiday_dir[date_str]))\n",
    "                elif weekday == 5 or weekday == 6:  #若日期為周末\n",
    "                    cursor.execute(command, (date_str, str(weekday), \"0\", -1, \"\"))\n",
    "                else:\n",
    "                    work_count += 1\n",
    "                    cursor.execute(command, (date_str, str(weekday), \"1\", work_count, \"\"))\n",
    "                \n",
    "                conn.commit()\n",
    "except Exception as e:\n",
    "    #    print(e)\n",
    "        error_class = e.__class__.__name__ #取得錯誤類型\n",
    "        detail = e.args[0] #取得詳細內容\n",
    "        cl, exc, tb = sys.exc_info() #取得Call Stack\n",
    "        lastCallStack = traceback.extract_tb(tb)[-1] #取得Call Stack的最後一筆資料\n",
    "        fileName = lastCallStack[0] #取得發生的檔案名稱\n",
    "        lineNum = lastCallStack[1] #取得發生的行號\n",
    "        funcName = lastCallStack[2] #取得發生的函數名稱\n",
    "        errMsg = \"File \\\"{}\\\", line {}, in {}: [{}] {}\".format(fileName, lineNum, funcName, error_class, detail)\n",
    "        print(errMsg)"
   ]
  },
  {
   "cell_type": "code",
   "execution_count": null,
   "id": "e8491c49",
   "metadata": {},
   "outputs": [],
   "source": []
  }
 ],
 "metadata": {
  "kernelspec": {
   "display_name": "Python 3 (ipykernel)",
   "language": "python",
   "name": "python3"
  },
  "language_info": {
   "codemirror_mode": {
    "name": "ipython",
    "version": 3
   },
   "file_extension": ".py",
   "mimetype": "text/x-python",
   "name": "python",
   "nbconvert_exporter": "python",
   "pygments_lexer": "ipython3",
   "version": "3.7.11"
  }
 },
 "nbformat": 4,
 "nbformat_minor": 5
}
